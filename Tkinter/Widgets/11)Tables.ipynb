{
 "cells": [
  {
   "cell_type": "code",
   "execution_count": 11,
   "metadata": {},
   "outputs": [],
   "source": [
    "import tkinter as tk\n",
    "from tkinter import ttk\n",
    "from random import choice"
   ]
  },
  {
   "cell_type": "code",
   "execution_count": 12,
   "metadata": {},
   "outputs": [],
   "source": [
    "window = tk.Tk() # initialize the window\n",
    "window.title('Tables') # title\n",
    "window.geometry('600x1000') # resolution\n",
    "\n",
    "first_names = ['Bob', 'Maria', 'Alex']\n",
    "last_names = ['Smith', 'Brown', 'Wilson']\n",
    "\n",
    "table = ttk.Treeview(window, \n",
    "                     columns = ('first', 'last','email'),\n",
    "                     show='headings')\n",
    "table.heading('first', text='First name')\n",
    "table.heading('last', text = 'Surname')\n",
    "table.heading('email', text = 'Email')\n",
    "table.pack(fill = 'both', expand = True)\n",
    "\n",
    "for i in range(100):\n",
    "    first = choice(first_names)\n",
    "    last = choice(last_names)\n",
    "    email = f'{first}{last}@email.com'\n",
    "    data = (first, last, email)\n",
    "    table.insert(parent = '', index = 0, values = data)\n",
    "\n",
    "window.mainloop()\n"
   ]
  }
 ],
 "metadata": {
  "kernelspec": {
   "display_name": "Python 3",
   "language": "python",
   "name": "python3"
  },
  "language_info": {
   "codemirror_mode": {
    "name": "ipython",
    "version": 3
   },
   "file_extension": ".py",
   "mimetype": "text/x-python",
   "name": "python",
   "nbconvert_exporter": "python",
   "pygments_lexer": "ipython3",
   "version": "3.11.2"
  }
 },
 "nbformat": 4,
 "nbformat_minor": 2
}
