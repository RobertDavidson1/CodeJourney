{
 "cells": [
  {
   "cell_type": "code",
   "execution_count": 15,
   "metadata": {},
   "outputs": [],
   "source": [
    "import tkinter as tk\n",
    "from tkinter import ttk"
   ]
  },
  {
   "cell_type": "code",
   "execution_count": 16,
   "metadata": {},
   "outputs": [],
   "source": [
    "window = tk.Tk() # initialize the window\n",
    "window.geometry('300x500')\n",
    "window.title('Menus') # title\n",
    "\n",
    "menu = tk.Menu(window)\n",
    "\n",
    "file_menu = tk.Menu(menu, tearoff=False) \n",
    "file_menu.add_command(label='New', command=lambda: print('New file'))\n",
    "file_menu.add_command(label='Open', command=lambda: print('Open file'))\n",
    "\n",
    "help_menu = tk.Menu(menu, tearoff=False)\n",
    "help_menu.add_cascade()\n",
    "\n",
    "menu.add_cascade(label='File', menu=file_menu)\n",
    "menu.add_cascade(label = 'Help', menu = help_menu) \n",
    "\n",
    "\n",
    "window.configure(menu=menu)\n",
    "\n",
    "\n",
    "window.mainloop()\n"
   ]
  }
 ],
 "metadata": {
  "kernelspec": {
   "display_name": "Python 3",
   "language": "python",
   "name": "python3"
  },
  "language_info": {
   "codemirror_mode": {
    "name": "ipython",
    "version": 3
   },
   "file_extension": ".py",
   "mimetype": "text/x-python",
   "name": "python",
   "nbconvert_exporter": "python",
   "pygments_lexer": "ipython3",
   "version": "3.11.2"
  }
 },
 "nbformat": 4,
 "nbformat_minor": 2
}
