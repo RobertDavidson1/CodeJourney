{
 "cells": [
  {
   "cell_type": "code",
   "execution_count": 25,
   "metadata": {},
   "outputs": [],
   "source": [
    "import tkinter as tk\n",
    "from tkinter import ttk"
   ]
  },
  {
   "cell_type": "code",
   "execution_count": 26,
   "metadata": {},
   "outputs": [
    {
     "name": "stdout",
     "output_type": "stream",
     "text": [
      "Test 1\n",
      "Test 1\n"
     ]
    }
   ],
   "source": [
    "window = tk.Tk() # initialize the window\n",
    "window.geometry('300x500')\n",
    "window.title('Menus') # title\n",
    "\n",
    "menu = tk.Menu(window)\n",
    "\n",
    "file_menu = tk.Menu(menu, tearoff=False) \n",
    "file_menu.add_command(label='New', command=lambda: print('New file'))\n",
    "file_menu.add_command(label='Open', command=lambda: print('Open file'))\n",
    "\n",
    "help_check_string = tk.StringVar()\n",
    "help_menu = tk.Menu(menu, tearoff=False)\n",
    "help_menu.add_checkbutton(label = 'Check', onvalue='on', offvalue='off', variable=help_check_string)\n",
    "help_menu.add_command(label = 'Help Entry', command = lambda:print(help_check_string.get()))\n",
    "\n",
    "menu.add_cascade(label='File', menu=file_menu)\n",
    "menu.add_cascade(label = 'Help', menu = help_menu) \n",
    "\n",
    "\n",
    "\n",
    "\n",
    "menu_button = ttk.Menubutton(window, text='Menu Button')\n",
    "menu_button.pack()\n",
    "button_sub_menu = tk.Menu(menu_button, tearoff= False)\n",
    "button_sub_menu.add_command(label = 'Entry 1', command = lambda : print('Test 1'))\n",
    "menu_button.configure(menu = button_sub_menu)\n",
    "\n",
    "\n",
    "window.configure(menu=menu)\n",
    "window.mainloop()\n"
   ]
  }
 ],
 "metadata": {
  "kernelspec": {
   "display_name": "Python 3",
   "language": "python",
   "name": "python3"
  },
  "language_info": {
   "codemirror_mode": {
    "name": "ipython",
    "version": 3
   },
   "file_extension": ".py",
   "mimetype": "text/x-python",
   "name": "python",
   "nbconvert_exporter": "python",
   "pygments_lexer": "ipython3",
   "version": "3.11.2"
  }
 },
 "nbformat": 4,
 "nbformat_minor": 2
}
