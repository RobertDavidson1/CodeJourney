{
 "cells": [
  {
   "cell_type": "code",
   "execution_count": 1,
   "metadata": {},
   "outputs": [],
   "source": [
    "import tkinter as tk\n",
    "from tkinter import ttk"
   ]
  },
  {
   "cell_type": "code",
   "execution_count": 2,
   "metadata": {},
   "outputs": [],
   "source": [
    "window = tk.Tk() # initialize the window\n",
    "window.geometry('300x500')\n",
    "window.title('More windows') # title\n",
    "\n",
    "\n",
    "window.minsize(200,400)\n",
    "window.maxsize(400,600)\n",
    "\n",
    "\n",
    "window.attributes('-alpha', 1) # Transparency 0:1, with 0 being transparent\n",
    "window.attributes('-topmost', True) # On top of all other windows\n",
    "\n",
    "window.mainloop()"
   ]
  }
 ],
 "metadata": {
  "kernelspec": {
   "display_name": "Python 3",
   "language": "python",
   "name": "python3"
  },
  "language_info": {
   "codemirror_mode": {
    "name": "ipython",
    "version": 3
   },
   "file_extension": ".py",
   "mimetype": "text/x-python",
   "name": "python",
   "nbconvert_exporter": "python",
   "pygments_lexer": "ipython3",
   "version": "3.11.2"
  }
 },
 "nbformat": 4,
 "nbformat_minor": 2
}
