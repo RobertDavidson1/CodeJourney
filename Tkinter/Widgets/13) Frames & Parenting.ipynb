{
 "cells": [
  {
   "cell_type": "code",
   "execution_count": 18,
   "metadata": {},
   "outputs": [],
   "source": [
    "import tkinter as tk\n",
    "from tkinter import ttk"
   ]
  },
  {
   "cell_type": "code",
   "execution_count": 31,
   "metadata": {},
   "outputs": [],
   "source": [
    "window = tk.Tk() # initialize the window\n",
    "window.geometry('600x1000')\n",
    "window.title('Frames') # title\n",
    "\n",
    "frame = ttk.Frame(window,\n",
    "                  width= 200,\n",
    "                  height= 200,\n",
    "                  borderwidth=10,\n",
    "                  relief=tk.GROOVE)\n",
    "frame.propagate(False) # True = shrink to size of elements in contains\n",
    "frame.pack()\n",
    "\n",
    "# Parenting / Master setting\n",
    "label = ttk.Label(frame,\n",
    "                  text='Label in a frame')\n",
    "label.pack(side = 'bottom')\n",
    "\n",
    "\n",
    "window.mainloop()"
   ]
  }
 ],
 "metadata": {
  "kernelspec": {
   "display_name": "Python 3",
   "language": "python",
   "name": "python3"
  },
  "language_info": {
   "codemirror_mode": {
    "name": "ipython",
    "version": 3
   },
   "file_extension": ".py",
   "mimetype": "text/x-python",
   "name": "python",
   "nbconvert_exporter": "python",
   "pygments_lexer": "ipython3",
   "version": "3.11.2"
  }
 },
 "nbformat": 4,
 "nbformat_minor": 2
}
