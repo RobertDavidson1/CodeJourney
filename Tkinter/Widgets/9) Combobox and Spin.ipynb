{
 "cells": [
  {
   "cell_type": "code",
   "execution_count": 26,
   "metadata": {},
   "outputs": [],
   "source": [
    "import tkinter as tk\n",
    "from tkinter import ttk"
   ]
  },
  {
   "cell_type": "markdown",
   "metadata": {},
   "source": [
    "### Combo Box\n"
   ]
  },
  {
   "cell_type": "code",
   "execution_count": 27,
   "metadata": {},
   "outputs": [],
   "source": [
    "window = tk.Tk() # initialize the window\n",
    "window.title('Combobox') # title\n",
    "window.geometry('600x1000') # resolution\n",
    "\n",
    "items = ('Steak', 'Pizza', 'Chicken')\n",
    "\n",
    "food_string = tk.StringVar(value = items[0]) # Initial value\n",
    "\n",
    "combo = ttk.Combobox(window, textvariable=food_string) # Combo box with initial value \n",
    "combo['values'] = items # Fill the combo box with entries in list\n",
    "\n",
    "\n",
    "combo.bind('<<ComboboxSelected>>', lambda event: combo_label.config(text = food_string.get())) # Extract the selected food\n",
    "\n",
    "combo_label = ttk.Label(window,\n",
    "                        text = items[0])\n",
    "combo_label.pack() # Pack the label first so its ontop of the combobox\n",
    "combo.pack()\n",
    "\n",
    "window.mainloop()\n",
    "\n"
   ]
  },
  {
   "cell_type": "markdown",
   "metadata": {},
   "source": [
    "## Spin box\n"
   ]
  },
  {
   "cell_type": "code",
   "execution_count": 28,
   "metadata": {},
   "outputs": [],
   "source": [
    "window = tk.Tk() # initialize the window\n",
    "window.title('Spinbox') # title\n",
    "window.geometry('600x1000') # resolution\n",
    "\n",
    "spin = ttk.Spinbox(window,\n",
    "                   from_= 3, # starting value\n",
    "                   to=20, # ending value \n",
    "                   increment=3) # step size\n",
    "spin.pack()\n",
    "\n",
    "window.mainloop()"
   ]
  }
 ],
 "metadata": {
  "kernelspec": {
   "display_name": "Python 3",
   "language": "python",
   "name": "python3"
  },
  "language_info": {
   "codemirror_mode": {
    "name": "ipython",
    "version": 3
   },
   "file_extension": ".py",
   "mimetype": "text/x-python",
   "name": "python",
   "nbconvert_exporter": "python",
   "pygments_lexer": "ipython3",
   "version": "3.11.2"
  }
 },
 "nbformat": 4,
 "nbformat_minor": 2
}
