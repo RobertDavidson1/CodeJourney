{
 "cells": [
  {
   "cell_type": "markdown",
   "metadata": {},
   "source": [
    "## Updating widgets\n"
   ]
  },
  {
   "cell_type": "code",
   "execution_count": null,
   "metadata": {},
   "outputs": [],
   "source": [
    "import tkinter as tk\n",
    "from tkinter import ttk"
   ]
  },
  {
   "cell_type": "code",
   "execution_count": null,
   "metadata": {},
   "outputs": [],
   "source": [
    "import tkinter as tk\n",
    "from tkinter import ttk"
   ]
  },
  {
   "cell_type": "code",
   "execution_count": null,
   "metadata": {},
   "outputs": [],
   "source": [
    "def update_label():\n",
    "    entry_text = entry.get() # get the inputted text\n",
    "    \n",
    "    label['text'] = entry_text # asign the label text to the inputted text\n",
    "    entry['state'] = 'disabled' # disable the entry box"
   ]
  },
  {
   "cell_type": "code",
   "execution_count": null,
   "metadata": {},
   "outputs": [],
   "source": [
    "def reset_label():\n",
    "    label['text'] = 'Initial Text' # reset the buttons text\n",
    "    entry['state'] = 'enabled' # re-enable entry box"
   ]
  },
  {
   "cell_type": "code",
   "execution_count": null,
   "metadata": {},
   "outputs": [],
   "source": [
    "window = tk.Tk() # initialize the window\n",
    "window.title('Updating Widgets') # title\n",
    "window.geometry('600x1000') # resolution\n",
    "\n",
    "label = ttk.Label(master = window, text = 'Initial Text')\n",
    "label.pack()\n",
    "\n",
    "entry = ttk.Entry(master = window)\n",
    "entry.pack()\n",
    "\n",
    "button = ttk.Button(master = window, text = 'Update label', command = update_label) # button update label\n",
    "button.pack()\n",
    "\n",
    "button = ttk.Button(master = window, text = 'Reset label', command = reset_label) # button to reset label\n",
    "button.pack()\n",
    "\n",
    "window.mainloop()"
   ]
  },
  {
   "cell_type": "code",
   "execution_count": null,
   "metadata": {},
   "outputs": [],
   "source": []
  },
  {
   "cell_type": "code",
   "execution_count": null,
   "metadata": {},
   "outputs": [],
   "source": []
  }
 ],
 "metadata": {
  "kernelspec": {
   "display_name": "Python 3",
   "language": "python",
   "name": "python3"
  },
  "language_info": {
   "codemirror_mode": {
    "name": "ipython",
    "version": 3
   },
   "file_extension": ".py",
   "mimetype": "text/x-python",
   "name": "python",
   "nbconvert_exporter": "python",
   "pygments_lexer": "ipython3",
   "version": "3.11.2"
  }
 },
 "nbformat": 4,
 "nbformat_minor": 2
}
