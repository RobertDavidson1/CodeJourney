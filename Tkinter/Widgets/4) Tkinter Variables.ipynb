{
 "cells": [
  {
   "cell_type": "code",
   "execution_count": 15,
   "metadata": {},
   "outputs": [],
   "source": [
    "import tkinter as tk\n",
    "from tkinter import ttk"
   ]
  },
  {
   "cell_type": "code",
   "execution_count": 16,
   "metadata": {},
   "outputs": [],
   "source": [
    "def button_func():\n",
    "    print(string_var.get())\n",
    "    string_var.set('Button Pressed') # set the string var to 'Button Pressed'"
   ]
  },
  {
   "cell_type": "code",
   "execution_count": 17,
   "metadata": {},
   "outputs": [
    {
     "name": "stdout",
     "output_type": "stream",
     "text": [
      "start value\n",
      "Button Pressed\n"
     ]
    }
   ],
   "source": [
    "window = tk.Tk()\n",
    "window.title('Tkinter Variables')\n",
    "window.geometry('600x1000')\n",
    "\n",
    "# tkinter variable\n",
    "string_var = tk.StringVar(value = 'start value') # a variable to store a string\n",
    "\n",
    "\n",
    "label = ttk.Label(master = window, text = 'Label Test', textvariable= string_var)\n",
    "label.pack()\n",
    "\n",
    "entry = ttk.Entry(master = window, textvariable= string_var)\n",
    "entry.pack()\n",
    "\n",
    "entry2 = ttk.Entry(master = window, textvariable= string_var)\n",
    "entry2.pack()\n",
    "\n",
    "button = ttk.Button(master = window, text = 'button', command=button_func)\n",
    "button.pack()\n",
    "\n",
    "\n",
    "window.mainloop()\n",
    "\n"
   ]
  }
 ],
 "metadata": {
  "kernelspec": {
   "display_name": "Python 3",
   "language": "python",
   "name": "python3"
  },
  "language_info": {
   "codemirror_mode": {
    "name": "ipython",
    "version": 3
   },
   "file_extension": ".py",
   "mimetype": "text/x-python",
   "name": "python",
   "nbconvert_exporter": "python",
   "pygments_lexer": "ipython3",
   "version": "3.11.2"
  }
 },
 "nbformat": 4,
 "nbformat_minor": 2
}
