{
 "cells": [
  {
   "cell_type": "code",
   "execution_count": 22,
   "metadata": {},
   "outputs": [],
   "source": [
    "import tkinter as tk"
   ]
  },
  {
   "cell_type": "code",
   "execution_count": 41,
   "metadata": {},
   "outputs": [],
   "source": [
    "window = tk.Tk() # initialize the window\n",
    "window.title('Canvas') # title\n",
    "window.geometry('600x1000') # resolution\n",
    "\n",
    "# canvas \n",
    "canvas = tk.Canvas(window, \n",
    "                   bg = 'white', \n",
    "                   width= 600)\n",
    "canvas.pack()\n",
    "\n",
    "\n",
    "canvas.create_rectangle((50,20,100,200), #left, top, right, bottom\n",
    "                        fill='red',\n",
    "                        width=10, # border width \n",
    "                        dash=(4,1), # dash length and dash gap\n",
    "                        outline= 'green') # border colour\n",
    "\n",
    "canvas.create_line((150,150,250,250), \n",
    "                   fill='blue', \n",
    "                   width= 20) # start x & y, end x and y\n",
    "\n",
    "canvas.create_polygon((100, 100, 100, 200, 300, 50),# first point (0,0), second point (100,200), third point (300,50)\n",
    "                      fill=None, \n",
    "                      ) \n",
    "\n",
    "\n",
    "\n",
    "window.mainloop()\n"
   ]
  }
 ],
 "metadata": {
  "kernelspec": {
   "display_name": "Python 3",
   "language": "python",
   "name": "python3"
  },
  "language_info": {
   "codemirror_mode": {
    "name": "ipython",
    "version": 3
   },
   "file_extension": ".py",
   "mimetype": "text/x-python",
   "name": "python",
   "nbconvert_exporter": "python",
   "pygments_lexer": "ipython3",
   "version": "3.11.2"
  }
 },
 "nbformat": 4,
 "nbformat_minor": 2
}
