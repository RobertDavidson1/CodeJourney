{
 "cells": [
  {
   "cell_type": "code",
   "execution_count": 17,
   "metadata": {},
   "outputs": [],
   "source": [
    "import tkinter as tk\n",
    "from tkinter import ttk\n",
    "from tkinter import scrolledtext"
   ]
  },
  {
   "cell_type": "markdown",
   "metadata": {},
   "source": [
    "# Slidebar\n"
   ]
  },
  {
   "cell_type": "code",
   "execution_count": 24,
   "metadata": {},
   "outputs": [],
   "source": [
    "window = tk.Tk() # initialize the window\n",
    "window.title('Sliders') # title\n",
    "window.geometry('600x1000') # resolution\n",
    "\n",
    "scale_int = tk.IntVar(value=15)\n",
    "# scale_float = tk.DoubleVar(value=12.5)\n",
    "\n",
    "scale = ttk.Scale(window, \n",
    "                  command = lambda value:print(scale_int.get()),\n",
    "                  from_=0, \n",
    "                  to=25, \n",
    "                  length=600, \n",
    "                  orient='vertical',\n",
    "                  variable=scale_int,)\n",
    "scale.pack()\n",
    "\n",
    "# Progress bar\\\n",
    "progress = ttk.Progressbar(window, \n",
    "                           variable=scale_int,\n",
    "                           maximum=25, \n",
    "                           mode = 'indeterminate', \n",
    "                           length=600, \n",
    "                           )\n",
    "progress.pack()\n",
    "\n",
    "\n",
    "scrolled_text = scrolledtext.ScrolledText(window, \n",
    "                                          width = 600,\n",
    "                                          height = 10,)\n",
    "scrolled_text.pack()\n",
    "\n",
    "\n",
    "window.mainloop()\n"
   ]
  }
 ],
 "metadata": {
  "kernelspec": {
   "display_name": "Python 3",
   "language": "python",
   "name": "python3"
  },
  "language_info": {
   "codemirror_mode": {
    "name": "ipython",
    "version": 3
   },
   "file_extension": ".py",
   "mimetype": "text/x-python",
   "name": "python",
   "nbconvert_exporter": "python",
   "pygments_lexer": "ipython3",
   "version": "3.11.2"
  }
 },
 "nbformat": 4,
 "nbformat_minor": 2
}
