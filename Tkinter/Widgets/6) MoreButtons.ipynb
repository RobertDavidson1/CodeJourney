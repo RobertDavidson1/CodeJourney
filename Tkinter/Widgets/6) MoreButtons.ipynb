{
 "cells": [
  {
   "cell_type": "code",
   "execution_count": 31,
   "metadata": {},
   "outputs": [],
   "source": [
    "import tkinter as tk\n",
    "from tkinter import ttk"
   ]
  },
  {
   "cell_type": "markdown",
   "metadata": {},
   "source": [
    "## 3 types\n",
    "\n",
    "- Button\n",
    "- Check Button\n",
    "- Radio Button\n"
   ]
  },
  {
   "cell_type": "code",
   "execution_count": 32,
   "metadata": {},
   "outputs": [
    {
     "name": "stdout",
     "output_type": "stream",
     "text": [
      "radio 1\n",
      "2\n",
      "radio 1\n",
      "2\n",
      "radio 1\n"
     ]
    }
   ],
   "source": [
    "window = tk.Tk() # initialize the window\n",
    "window.title('More Buttons') # title\n",
    "window.geometry('600x1000') # resolution\n",
    "\n",
    "button = tk.Button(text = 'Normal Button')\n",
    "button.pack()\n",
    "\n",
    "check_var = tk.IntVar()\n",
    "check_button = tk.Checkbutton(window, \n",
    "                              text = 'Check Button', \n",
    "                              command = lambda: print(check_var.get()), \n",
    "                              onvalue= 10,\n",
    "                              offvalue= 5,\n",
    "                              variable=check_var\n",
    "                              )\n",
    "check_button.pack()\n",
    "\n",
    "\n",
    "radio_var = tk.StringVar()\n",
    "radio_button = tk.Radiobutton(window, \n",
    "                              text = 'Radio Button',\n",
    "                              value = 'radio 1',\n",
    "                              variable = radio_var,\n",
    "                              command= lambda:  print(radio_var.get())\n",
    "                              )\n",
    "radio_button.pack()\n",
    "\n",
    "radio_button2 = tk.Radiobutton(window, \n",
    "                              text = 'Radio Button',\n",
    "                              value=2,\n",
    "                              variable = radio_var,\n",
    "                              command= lambda:  print(radio_var.get())\n",
    "                              )\n",
    "radio_button2.pack()\n",
    "\n",
    "\n",
    "window.mainloop()"
   ]
  }
 ],
 "metadata": {
  "kernelspec": {
   "display_name": "Python 3",
   "language": "python",
   "name": "python3"
  },
  "language_info": {
   "codemirror_mode": {
    "name": "ipython",
    "version": 3
   },
   "file_extension": ".py",
   "mimetype": "text/x-python",
   "name": "python",
   "nbconvert_exporter": "python",
   "pygments_lexer": "ipython3",
   "version": "3.11.2"
  }
 },
 "nbformat": 4,
 "nbformat_minor": 2
}
