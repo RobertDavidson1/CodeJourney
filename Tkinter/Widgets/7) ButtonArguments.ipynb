{
 "cells": [
  {
   "cell_type": "code",
   "execution_count": 40,
   "metadata": {},
   "outputs": [],
   "source": [
    "import tkinter as tk\n",
    "from tkinter import ttk"
   ]
  },
  {
   "cell_type": "code",
   "execution_count": 41,
   "metadata": {},
   "outputs": [],
   "source": [
    "def button_func(entry_string):\n",
    "    print('Button was pressed')\n",
    "    print(entry_string.get())"
   ]
  },
  {
   "cell_type": "markdown",
   "metadata": {},
   "source": [
    "Incorrect Calling of a function\n"
   ]
  },
  {
   "cell_type": "markdown",
   "metadata": {},
   "source": [
    "```python\n",
    "button = ttk.Button(window,\n",
    "                    text = 'button',\n",
    "                    command = button_func(entry_string))\n",
    "button.pack()\n",
    "```\n"
   ]
  },
  {
   "cell_type": "code",
   "execution_count": 42,
   "metadata": {},
   "outputs": [
    {
     "name": "stdout",
     "output_type": "stream",
     "text": [
      "Button was pressed\n",
      "Test\n"
     ]
    }
   ],
   "source": [
    "window = tk.Tk() # initialize the window\n",
    "window.title('Button Arguments') # title\n",
    "window.geometry('600x1000') # resolution\n",
    "\n",
    "entry_string = tk.StringVar(value = 'Test')\n",
    "entry = ttk.Entry(window,\n",
    "                  textvariable = entry_string)\n",
    "entry.pack()\n",
    "\n",
    "button = ttk.Button(window, \n",
    "                    text = 'button',\n",
    "                    command = lambda : button_func(entry_string)) # assign a lambda function so the function is only called on button press\n",
    "button.pack()\n",
    "\n",
    "\n",
    "window.mainloop()\n"
   ]
  }
 ],
 "metadata": {
  "kernelspec": {
   "display_name": "Python 3",
   "language": "python",
   "name": "python3"
  },
  "language_info": {
   "codemirror_mode": {
    "name": "ipython",
    "version": 3
   },
   "file_extension": ".py",
   "mimetype": "text/x-python",
   "name": "python",
   "nbconvert_exporter": "python",
   "pygments_lexer": "ipython3",
   "version": "3.11.2"
  }
 },
 "nbformat": 4,
 "nbformat_minor": 2
}
